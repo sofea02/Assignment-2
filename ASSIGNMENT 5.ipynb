{
 "cells": [
  {
   "cell_type": "code",
   "execution_count": null,
   "id": "7e516810",
   "metadata": {},
   "outputs": [],
   "source": [
    "import csv\n",
    "\n",
    "def process_students_csv(input_file, output_file):\n",
    "    # Read the CSV file\n",
    "    with open(input_file, 'r') as csv_file:\n",
    "        reader = csv.DictReader(csv_file)\n",
    "        header = reader.fieldnames\n",
    "\n",
    "        # Filter out students with grades less than 'B'\n",
    "        filtered_students = [row for row in reader if row['Grade'] <= 'B']\n",
    "\n",
    "    # Add a new 'Status' column and set the value to 'Passed' for each filtered student\n",
    "    for student in filtered_students:\n",
    "        student['Status'] = 'Passed'\n",
    "\n",
    "    # Write the filtered data to a new CSV file\n",
    "    with open(output_file, 'w', newline='') as new_csv_file:\n",
    "        fieldnames = header + ['Status']\n",
    "        writer = csv.DictWriter(new_csv_file, fieldnames=fieldnames)\n",
    "\n",
    "        # Write the header\n",
    "        writer.writeheader()\n",
    "\n",
    "        # Write the filtered students\n",
    "        writer.writerows(filtered_students)\n",
    "\n",
    "if __name__ == \"__main__\":\n",
    "    \n",
    "    input_csv_file = 'students.csv'\n",
    "    output_csv_file = 'top_students.csv'\n",
    "\n",
    "    process_students_csv(input_csv_file, output_csv_file)"
   ]
  },
  {
   "cell_type": "code",
   "execution_count": null,
   "id": "1011e1fd",
   "metadata": {},
   "outputs": [
    {
     "name": "stdout",
     "output_type": "stream",
     "text": [
      "Enter the name of a state: Johor\n",
      "Population of Johor: 3794000\n",
      "Enter the name of a state: Unknown State\n",
      "Unknown State is not found in the data.\n"
     ]
    }
   ],
   "source": [
    "import requests\n",
    "\n",
    "def get_state_population(state_name, data):\n",
    "    for state_info in data:\n",
    "        if state_info[\"state\"].lower() == state_name.lower():\n",
    "            return state_info[\"population\"]\n",
    "    return None\n",
    "\n",
    "def main():\n",
    "    url = \"https://jian.sh/malaysia-api/state/v1/all.json\"\n",
    "    \n",
    "    response = requests.get(url)\n",
    "    \n",
    "    if response.status_code == 200:\n",
    "        data = response.json()\n",
    "        \n",
    "        while True:\n",
    "            state_name = input(\"Enter the name of a state: \")\n",
    "\n",
    "            if state_name.lower() == \"exit\":\n",
    "                break\n",
    "\n",
    "            population = get_state_population(state_name, data)\n",
    "\n",
    "            if population is not None:\n",
    "                print(f\"Population of {state_name}: {population}\")\n",
    "            else:\n",
    "                print(f\"{state_name} is not found in the data.\")\n",
    "    else:\n",
    "        print(f\"Error: Unable to fetch data from the API (Status Code: {response.status_code})\")\n",
    "            \n",
    "if __name__ == \"__main__\":\n",
    "    main()"
   ]
  },
  {
   "cell_type": "code",
   "execution_count": null,
   "id": "92a55b88",
   "metadata": {},
   "outputs": [],
   "source": []
  },
  {
   "cell_type": "code",
   "execution_count": null,
   "id": "3dc99798",
   "metadata": {},
   "outputs": [],
   "source": []
  }
 ],
 "metadata": {
  "kernelspec": {
   "display_name": "Python 3 (ipykernel)",
   "language": "python",
   "name": "python3"
  },
  "language_info": {
   "codemirror_mode": {
    "name": "ipython",
    "version": 3
   },
   "file_extension": ".py",
   "mimetype": "text/x-python",
   "name": "python",
   "nbconvert_exporter": "python",
   "pygments_lexer": "ipython3",
   "version": "3.11.5"
  }
 },
 "nbformat": 4,
 "nbformat_minor": 5
}
